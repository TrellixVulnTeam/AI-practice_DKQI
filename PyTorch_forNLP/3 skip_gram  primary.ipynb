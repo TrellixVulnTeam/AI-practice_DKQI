{
 "cells": [
  {
   "cell_type": "code",
   "execution_count": 1,
   "metadata": {},
   "outputs": [
    {
     "data": {
      "text/plain": [
       "(True, 1)"
      ]
     },
     "execution_count": 1,
     "metadata": {},
     "output_type": "execute_result"
    }
   ],
   "source": [
    "import torch\n",
    "import torch.nn as nn\n",
    "import torch.nn.functional as F\n",
    "import torch.utils.data as tud\n",
    "import torch.optim as optim\n",
    "\n",
    "torch.cuda.is_available(), torch.cuda.device_count()"
   ]
  },
  {
   "cell_type": "markdown",
   "metadata": {},
   "source": [
    "#### freeze随机种子，这样后面跑模型每次都是一样的，能看出性能"
   ]
  },
  {
   "cell_type": "code",
   "execution_count": 2,
   "metadata": {
    "collapsed": true
   },
   "outputs": [],
   "source": [
    "import random\n",
    "import numpy as np\n",
    "from tqdm import tqdm\n",
    "\n",
    "random.seed(1)\n",
    "np.random.seed(1)\n",
    "torch.manual_seed(1)\n",
    "\n",
    "device = 'cuda' if torch.cuda.is_available() else 'cpu'\n",
    "if device == 'cuda':\n",
    "    torch.cuda.manual_seed(1)"
   ]
  },
  {
   "cell_type": "markdown",
   "metadata": {},
   "source": [
    "#### 构造BOW"
   ]
  },
  {
   "cell_type": "code",
   "execution_count": 3,
   "metadata": {},
   "outputs": [
    {
     "name": "stdout",
     "output_type": "stream",
     "text": [
      "number of sentences: 10\n",
      "number of words: 2502\n"
     ]
    }
   ],
   "source": [
    "with open('./dataset/corpus_havestp_C.txt', 'r', encoding='utf8') as f:\n",
    "    text = [s.strip() for s in f.readlines()[:10]] #to drop '\\n' \n",
    "\n",
    "s_to_wordlist = [s.split() for s in text] #one sentence -> one words_list\n",
    "print('number of sentences:',len(s_to_wordlist))\n",
    "\n",
    "word_list = list(set(' '.join(text).split()))\n",
    "print('number of words:', len(word_list)) \n",
    "word_to_idx = {w:i for i,w in enumerate(word_list)}"
   ]
  },
  {
   "cell_type": "markdown",
   "metadata": {},
   "source": [
    "#### 构造skip_gram dataset\n",
    "<img src=\"./dataset/skip_gram.png\" width=\"500\" align=\"left\"/>"
   ]
  },
  {
   "cell_type": "code",
   "execution_count": 4,
   "metadata": {
    "scrolled": true
   },
   "outputs": [
    {
     "name": "stdout",
     "output_type": "stream",
     "text": [
      "问责 领导\n",
      "领导 问责\n",
      "领导 上\n",
      "上 问责\n",
      "上 领导\n",
      "上 黄镇\n",
      "黄镇 领导\n",
      "黄镇 上\n",
      "黄镇 党委书记\n",
      "党委书记 上\n"
     ]
    },
    {
     "data": {
      "text/plain": [
       "torch.Size([19565, 2])"
      ]
     },
     "execution_count": 4,
     "metadata": {},
     "output_type": "execute_result"
    }
   ],
   "source": [
    "window_size = 2\n",
    "SG_data = []\n",
    "for s in s_to_wordlist:\n",
    "    L = len(s)\n",
    "    for i in range(0, L): #每个i都作一个center word\n",
    "        center_idx = word_to_idx[s[i]]\n",
    "        \n",
    "        left = max(0, i-window_size) \n",
    "        right = min(L, i+window_size)\n",
    "#         print(left, right, s)\n",
    "        if left >= right:\n",
    "            continue\n",
    "        context_idx = [word_to_idx[s[j]] for j in range(left, right) if j!=i]\n",
    "        for w in context_idx:\n",
    "            SG_data.append([center_idx, w])\n",
    "            \n",
    "for i in SG_data[:10]:\n",
    "    print(word_list[i[0]], word_list[i[1]], )\n",
    "SG_data = torch.Tensor(SG_data).type(torch.LongTensor)\n",
    "SG_data.shape"
   ]
  },
  {
   "cell_type": "code",
   "execution_count": 5,
   "metadata": {
    "collapsed": true
   },
   "outputs": [],
   "source": [
    "batch_size = 30\n",
    "embed_size = 20  # To show 2 dim embedding graph\n",
    "vocab_size = len(word_list)\n",
    "\n",
    "def random_batch(data, batch_size):\n",
    "    random_inputs = []\n",
    "    random_labels = []\n",
    "    random_index = np.random.choice(range(len(data)), batch_size, replace=False)\n",
    "    for i in random_index: #随机选batch_size个样本\n",
    "        random_inputs.append(np.eye(vocab_size)[data[i][0]])  # center word的onehot\n",
    "        random_labels.append(data[i][1])  # context word\n",
    "    \n",
    "#     print(random_inputs[1].shape, random_labels)\n",
    "    return random_inputs, random_labels"
   ]
  },
  {
   "cell_type": "code",
   "execution_count": 47,
   "metadata": {},
   "outputs": [
    {
     "name": "stderr",
     "output_type": "stream",
     "text": [
      "\n",
      "  0%|                                                                                         | 0/1000 [00:00<?, ?it/s]\n"
     ]
    },
    {
     "ename": "TypeError",
     "evalue": "new() received an invalid combination of arguments - got (list, type=torch.tensortype), but expected one of:\n * (torch.device device)\n * (torch.Storage storage)\n * (Tensor other)\n * (tuple of ints size, torch.device device)\n      didn't match because some of the keywords were incorrect: type\n * (object data, torch.device device)\n      didn't match because some of the keywords were incorrect: type\n",
     "output_type": "error",
     "traceback": [
      "\u001b[1;31m---------------------------------------------------------------------------\u001b[0m",
      "\u001b[1;31mTypeError\u001b[0m                                 Traceback (most recent call last)",
      "\u001b[1;32m<ipython-input-47-0232a80b90ec>\u001b[0m in \u001b[0;36m<module>\u001b[1;34m()\u001b[0m\n\u001b[0;32m     23\u001b[0m \u001b[1;33m\u001b[0m\u001b[0m\n\u001b[0;32m     24\u001b[0m     \u001b[0minput_batch\u001b[0m \u001b[1;33m=\u001b[0m \u001b[0mtorch\u001b[0m\u001b[1;33m.\u001b[0m\u001b[0mTensor\u001b[0m\u001b[1;33m(\u001b[0m\u001b[0minput_batch\u001b[0m\u001b[1;33m)\u001b[0m\u001b[1;33m.\u001b[0m\u001b[0mcuda\u001b[0m\u001b[1;33m(\u001b[0m\u001b[1;33m)\u001b[0m\u001b[1;33m\u001b[0m\u001b[0m\n\u001b[1;32m---> 25\u001b[1;33m     \u001b[0mtarget_batch\u001b[0m \u001b[1;33m=\u001b[0m \u001b[0mtorch\u001b[0m\u001b[1;33m.\u001b[0m\u001b[0mTensor\u001b[0m\u001b[1;33m(\u001b[0m\u001b[0mtarget_batch\u001b[0m\u001b[1;33m,\u001b[0m\u001b[0mtype\u001b[0m\u001b[1;33m=\u001b[0m\u001b[0mtorch\u001b[0m\u001b[1;33m.\u001b[0m\u001b[0mLongTensor\u001b[0m\u001b[1;33m)\u001b[0m\u001b[1;33m.\u001b[0m\u001b[0mcuda\u001b[0m\u001b[1;33m(\u001b[0m\u001b[1;33m)\u001b[0m\u001b[1;33m\u001b[0m\u001b[0m\n\u001b[0m\u001b[0;32m     26\u001b[0m \u001b[1;33m\u001b[0m\u001b[0m\n\u001b[0;32m     27\u001b[0m     \u001b[0moptimizer\u001b[0m\u001b[1;33m.\u001b[0m\u001b[0mzero_grad\u001b[0m\u001b[1;33m(\u001b[0m\u001b[1;33m)\u001b[0m\u001b[1;33m\u001b[0m\u001b[0m\n",
      "\u001b[1;31mTypeError\u001b[0m: new() received an invalid combination of arguments - got (list, type=torch.tensortype), but expected one of:\n * (torch.device device)\n * (torch.Storage storage)\n * (Tensor other)\n * (tuple of ints size, torch.device device)\n      didn't match because some of the keywords were incorrect: type\n * (object data, torch.device device)\n      didn't match because some of the keywords were incorrect: type\n"
     ]
    }
   ],
   "source": [
    "class SG_onehot(nn.Module):\n",
    "    def __init__(self):\n",
    "        super(SG_onehot, self).__init__()\n",
    "        initrange = 1#0.5 / embed_size\n",
    "        self.linear1 = nn.Linear(vocab_size, embed_size)\n",
    "        self.linear1.weight.data.uniform_(-initrange, initrange)\n",
    "        self.linear2 = nn.Linear(embed_size, vocab_size)\n",
    "        self.linear2.weight.data.uniform_(-initrange, initrange)\n",
    "\n",
    "    def forward(self, X):#batch_size, vocab_size\n",
    "        hidden_layer = self.linear1(X) # batch_size, embed_size\n",
    "        y_pred_prob = self.linear2(hidden_layer) # batch_size, vocab_size\n",
    "        return y_pred_prob \n",
    "\n",
    "    \n",
    "model = SG_onehot().cuda()\n",
    "criterion = nn.CrossEntropyLoss()\n",
    "optimizer = optim.Adam(model.parameters(), lr=0.01)\n",
    "\n",
    "for epoch in tqdm(range(1000)):\n",
    "    input_batch, target_batch = random_batch(SG_data, batch_size)\n",
    "    input_batch = torch.Tensor(input_batch).cuda()\n",
    "    target_batch = torch.LongTensor(target_batch).cuda()\n",
    "    \n",
    "    optimizer.zero_grad()\n",
    "    output = model(input_batch)\n",
    "\n",
    "    # output : [batch_size, vocab_size], target_batch : [batch_size] (LongTensor, not one-hot)\n",
    "    loss = criterion(output, target_batch)\n",
    "    if epoch%100 == 0:\n",
    "        print('Epoch:', epoch, ',Loss=%.6f'%loss)\n",
    "\n",
    "    loss.backward()\n",
    "    optimizer.step()"
   ]
  },
  {
   "cell_type": "code",
   "execution_count": null,
   "metadata": {
    "collapsed": true
   },
   "outputs": [],
   "source": []
  },
  {
   "cell_type": "code",
   "execution_count": null,
   "metadata": {},
   "outputs": [],
   "source": [
    "model.parameters()"
   ]
  },
  {
   "cell_type": "code",
   "execution_count": 30,
   "metadata": {},
   "outputs": [
    {
     "data": {
      "text/plain": [
       "(2502, 20)"
      ]
     },
     "execution_count": 30,
     "metadata": {},
     "output_type": "execute_result"
    }
   ],
   "source": [
    "embedding_weights = model.linear1.weight.cpu().detach().numpy().T\n",
    "embedding_weights.shape"
   ]
  },
  {
   "cell_type": "code",
   "execution_count": 31,
   "metadata": {
    "scrolled": false
   },
   "outputs": [
    {
     "name": "stdout",
     "output_type": "stream",
     "text": [
      "(50, 20) (50, 2)\n"
     ]
    },
    {
     "data": {
      "image/png": "[encoded data removed]",
      "text/plain": [
       "<Figure size 432x288 with 1 Axes>"
      ]
     },
     "metadata": {},
     "output_type": "display_data"
    }
   ],
   "source": [
    "import matplotlib.pyplot as plt\n",
    "plt.rcParams['font.sans-serif'] = ['SimHei']  # 用来正常显示中文标签\n",
    "plt.rcParams['axes.unicode_minus'] = False  # 用来正常显示负号\n",
    "from sklearn.decomposition import PCA\n",
    "import matplotlib.pyplot as plt\n",
    "words = word_list[:50]\n",
    "X = embedding_weights[:50]\n",
    "X_2 = PCA(n_components=2).fit_transform(X)\n",
    "print(X.shape, X_2.shape)\n",
    "\n",
    "plt.scatter(X_2[:, 0], X_2[:, 1])  # 散点图的xy坐标\n",
    "for i, word in enumerate(words):\n",
    "    plt.annotate(word, xy=(X_2[i, 0], X_2[i, 1]))\n",
    "plt.show()"
   ]
  },
  {
   "cell_type": "code",
   "execution_count": null,
   "metadata": {
    "collapsed": true
   },
   "outputs": [],
   "source": []
  }
 ],
 "metadata": {
  "kernelspec": {
   "display_name": "Python [default]",
   "language": "python",
   "name": "python3"
  },
  "language_info": {
   "codemirror_mode": {
    "name": "ipython",
    "version": 3
   },
   "file_extension": ".py",
   "mimetype": "text/x-python",
   "name": "python",
   "nbconvert_exporter": "python",
   "pygments_lexer": "ipython3",
   "version": "3.6.3"
  }
 },
 "nbformat": 4,
 "nbformat_minor": 2
}
