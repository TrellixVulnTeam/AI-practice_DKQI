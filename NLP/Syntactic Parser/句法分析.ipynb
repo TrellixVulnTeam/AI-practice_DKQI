{
 "cells": [
  {
   "cell_type": "code",
   "execution_count": 40,
   "metadata": {
    "scrolled": false
   },
   "outputs": [
    {
     "data": {
      "text/plain": [
       "[Tree('ROOT', [Tree('S', [Tree('NP', [Tree('PRP', ['I'])]), Tree('VP', [Tree('VBP', ['love']), Tree('NP', [Tree('NN', ['u'])])])])])]"
      ]
     },
     "execution_count": 40,
     "metadata": {},
     "output_type": "execute_result"
    }
   ],
   "source": [
    "import sys\n",
    "import nltk,os\n",
    "from nltk.parse.stanford import StanfordParser\n",
    "nltk.internals.config_java(\"D:/Program Files/Java/jdk1.8.0_111/bin/java.exe\")\n",
    "java_path = \"D:/Program Files/Java/jdk1.8.0_111/bin/java.exe\"\n",
    "os.environ['JAVAHOME'] = java_path\n",
    "\n",
    "eng_parser = StanfordParser(\"stanford-parser.jar\",\n",
    "                            \"stanford-parser-3.9.1-models.jar\",\n",
    "                            \"englishPCFG.ser.gz\")\n",
    "\n",
    "sentence = 'I love u'\n",
    "res = list(eng_parser.parse(sentence.split()))\n",
    "res"
   ]
  },
  {
   "cell_type": "code",
   "execution_count": 41,
   "metadata": {},
   "outputs": [
    {
     "name": "stdout",
     "output_type": "stream",
     "text": [
      "Constituency Parsing: (ROOT\r\n",
      "  (S\r\n",
      "    (PP (IN At)\r\n",
      "      (NP\r\n",
      "        (NP (DT the) (NN end))\r\n",
      "        (PP (IN of)\r\n",
      "          (NP (DT the) (NN day)))))\r\n",
      "    (, ,)\r\n",
      "    (S\r\n",
      "      (ADVP (RB successfully))\r\n",
      "      (VP (VBG launching)\r\n",
      "        (NP (DT a) (JJ new) (NN product))))\r\n",
      "    (VP (VBZ means)\r\n",
      "      (S\r\n",
      "        (VP\r\n",
      "          (VP (VBG reaching)\r\n",
      "            (NP (DT the) (JJ right) (NN audience)))\r\n",
      "          (CC and)\r\n",
      "          (VP\r\n",
      "            (ADVP (RB consistently))\r\n",
      "            (VBG delivering)\r\n",
      "            (NP (DT a)\r\n",
      "              (ADJP (RB very) (JJ convincing))\r\n",
      "              (NN message))))))\r\n",
      "    (. .)))\n"
     ]
    }
   ],
   "source": [
    "from stanfordcorenlp import StanfordCoreNLP\n",
    "from nltk.tree import Tree\n",
    "\n",
    "nlp = StanfordCoreNLP('stanford-corenlp-full-2018-10-05')\n",
    "\n",
    "s = 'At the end of the day, successfully launching a new product means reaching the right audience and consistently delivering a very convincing message. To avoid spending money recklessly because of disjointed strategies, we have developed several recommendations.'\n",
    "\n",
    "# print ('Tokenize:', nlp.word_tokenize(s))\n",
    "# print ('Part of Speech:', nlp.pos_tag(s))\n",
    "# print ('Named Entities:', nlp.ner(s))\n",
    "p = nlp.parse(s)\n",
    "print ('Constituency Parsing:', p)#语法树\n",
    "# print ('Dependency Parsing:', nlp.dependency_parse(s))#依存句法\n",
    "\n",
    "tree=Tree.fromstring(nlp.parse(s))\n",
    "tree.draw()\n",
    "\n",
    "nlp.close()#释放，否则后端服务器将消耗大量内存"
   ]
  },
  {
   "cell_type": "code",
   "execution_count": 39,
   "metadata": {
    "scrolled": false
   },
   "outputs": [
    {
     "data": {
      "text/plain": [
       "['At the end of the day',\n",
       " ',',\n",
       " 'successfully launching a new product',\n",
       " 'means reaching the right audience and consistently delivering a very convincing message',\n",
       " '.']"
      ]
     },
     "execution_count": 39,
     "metadata": {},
     "output_type": "execute_result"
    }
   ],
   "source": [
    "# words = s.split(' ')\n",
    "layer1 = []\n",
    "for n in tree[0]:\n",
    "    n = str(n)\n",
    "    sub = ''\n",
    "    for w in n.split():\n",
    "        if w.strip(')') in s:\n",
    "            sub += w.strip(')')+' '\n",
    "    layer1.append(sub.strip())\n",
    "layer1"
   ]
  },
  {
   "cell_type": "code",
   "execution_count": 40,
   "metadata": {
    "collapsed": true,
    "scrolled": false
   },
   "outputs": [],
   "source": [
    "import pandas as pd\n",
    "import numpy as np\n",
    "import math\n",
    "df = pd.read_excel('test.xlsx')"
   ]
  },
  {
   "cell_type": "code",
   "execution_count": 9,
   "metadata": {},
   "outputs": [
    {
     "name": "stdout",
     "output_type": "stream",
     "text": [
      "Wall time: 26min 41s\n"
     ]
    }
   ],
   "source": [
    "%%time\n",
    "p = {'parse':[]}\n",
    "for s in df['E'][:]:\n",
    "#     print(s)\n",
    "#     print(str(list(eng_parser.parse(s.split()))))\n",
    "    try:\n",
    "        p['parse'].append(str(list(eng_parser.parse(s.split()))))\n",
    "    except:\n",
    "        p['parse'].append('')\n",
    "    pd.DataFrame(p).to_excel('parse.xlsx')\n",
    "# str(nlp.parse(s))"
   ]
  },
  {
   "cell_type": "code",
   "execution_count": 42,
   "metadata": {
    "scrolled": false
   },
   "outputs": [
    {
     "name": "stdout",
     "output_type": "stream",
     "text": [
      "56 We excluded patients who had liver function abnormality (threefold higher than normal range), decreased kidney function (estimated glomerular filtration rate [eGFR] <60 mL/min/1.73) \n",
      "\n"
     ]
    },
    {
     "name": "stderr",
     "output_type": "stream",
     "text": [
      "C:\\Users\\Administrator\\Anaconda3\\lib\\site-packages\\ipykernel\\__main__.py:6: SettingWithCopyWarning: \n",
      "A value is trying to be set on a copy of a slice from a DataFrame\n",
      "\n",
      "See the caveats in the documentation: http://pandas.pydata.org/pandas-docs/stable/indexing.html#indexing-view-versus-copy\n"
     ]
    },
    {
     "name": "stdout",
     "output_type": "stream",
     "text": [
      "137 Because of the exploratory nature of the current study, the applied titration guidance was conservative (pre‐breakfast and pre‐dinner SMPG target 4.4–7.2) \n",
      "\n",
      "293 18.0; SPSS Inc., Chicago, IL, USA. \n",
      "\n",
      "302 (mL/m2) showed greater mean differences in the indexed stroke volumes than did MRI (0.8–3.3 mL/m2; p < 0.005). \n",
      "\n",
      "303 The indexed end-systolic (ES) volumes showed no significant difference between CT and MRI (p > 0.05), while the indexed end-diastolic (ED) volumes were significantly larger on CT than on MRI (93.6 ± 17.5 mL/m2 vs. 87.3) \n",
      "\n",
      "404 The volume CT dose index and dose-length product values of the cardiac CT examinations were 16.1 ± 6.3 mGy (range, 5.5–37.7 mGy) and 634.6 ± 191.8 mGy·cm (range, 241.9–1015.0) \n",
      "\n",
      "407 ± 15.5 mL/m2 [p < 0.001] and 177.2 ± 39.5 mL/m2 vs. 161.7 ± 33.1 mL/m2 [p < 0.001], respectively (Table 1). \n",
      "\n",
      "487 ([9/53]) and overseas hospitals (18.2% [2/11]) (Fig. 10). \n",
      "\n",
      "782 ROC curve analysis for entire study population.In assessments performed by Radiologist 1, AUC was significantly greater for oblique axial T2WI than for true axial T2WI (0.941 [95% CI, 0.858–0.983]) \n",
      "\n",
      "878 The median maximum perpendicular length of the subtraction band artifact representing the co-registration artifact of subtraction magnetic resonance images was 0.8 cm in 147 patients (range, 0–3.2 cm).Click here to view.(21K) \n",
      "\n"
     ]
    }
   ],
   "source": [
    "p = pd.read_excel('parse2.xlsx')\n",
    "for i, s in enumerate(p['parse']):\n",
    "#     print(i, type(s))\n",
    "    if type(s) == float: #用pd.isna更好，因为可能有np.nan或者math.nan，数据类型可能是float也可能是str\n",
    "        print(i+2, df['E'][i],'\\n')\n",
    "        p['parse'][i] = str(list(eng_parser.parse(df['E'][i].split())))"
   ]
  },
  {
   "cell_type": "code",
   "execution_count": 44,
   "metadata": {},
   "outputs": [
    {
     "name": "stdout",
     "output_type": "stream",
     "text": [
      "<class 'pandas.core.frame.DataFrame'>\n",
      "RangeIndex: 1070 entries, 0 to 1069\n",
      "Data columns (total 2 columns):\n",
      "Unnamed: 0    1070 non-null int64\n",
      "parse         1070 non-null object\n",
      "dtypes: int64(1), object(1)\n",
      "memory usage: 16.8+ KB\n"
     ]
    }
   ],
   "source": [
    "p.info()\n",
    "p.to_excel('p.xlsx')"
   ]
  }
 ],
 "metadata": {
  "kernelspec": {
   "display_name": "Python [default]",
   "language": "python",
   "name": "python3"
  },
  "language_info": {
   "codemirror_mode": {
    "name": "ipython",
    "version": 3
   },
   "file_extension": ".py",
   "mimetype": "text/x-python",
   "name": "python",
   "nbconvert_exporter": "python",
   "pygments_lexer": "ipython3",
   "version": "3.6.3"
  }
 },
 "nbformat": 4,
 "nbformat_minor": 2
}
