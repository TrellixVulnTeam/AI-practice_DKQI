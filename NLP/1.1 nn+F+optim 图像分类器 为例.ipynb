{
 "cells": [
  {
   "cell_type": "markdown",
   "metadata": {},
   "source": [
    "## 1.构建网络 初探"
   ]
  },
  {
   "cell_type": "code",
   "execution_count": 1,
   "metadata": {
    "collapsed": true
   },
   "outputs": [],
   "source": [
    "import torch\n",
    "import torch.nn as nn\n",
    "import torch.nn.functional as F\n",
    "import torch.optim"
   ]
  },
  {
   "cell_type": "markdown",
   "metadata": {},
   "source": [
    "### 1.1构建模型"
   ]
  },
  {
   "cell_type": "code",
   "execution_count": 2,
   "metadata": {},
   "outputs": [
    {
     "data": {
      "text/plain": [
       "CNN(\n",
       "  (conv1): Conv2d(1, 6, kernel_size=(3, 3), stride=(1, 1))\n",
       "  (fc1): Linear(in_features=1350, out_features=10, bias=True)\n",
       ")"
      ]
     },
     "execution_count": 2,
     "metadata": {},
     "output_type": "execute_result"
    }
   ],
   "source": [
    "class CNN(nn.Module):\n",
    "    def __init__(self):\n",
    "        super(CNN, self).__init__()\n",
    "        self.conv1 = nn.Conv2d(1, 6, 3)#单通道、输出通道（叠几层）、卷积核大小\n",
    "        self.fc1 = nn.Linear(1350, 10)#in, out\n",
    "    \n",
    "    def forward(self, x):\n",
    "        #x: [1,1,32,32]\n",
    "        x = self.conv1(x) #[1,6,30,30]\n",
    "        x = F.relu(x)\n",
    "        x = F.max_pool2d(x, (2, 2)) #池化过程不用重叠[1,6,15,15]\n",
    "        x = F.relu(x)\n",
    "        x = x.view(x.size()[0], -1) #压到[1,1350]\n",
    "        x = self.fc1(x)\n",
    "        return x\n",
    "    \n",
    "model = CNN()\n",
    "model"
   ]
  },
  {
   "cell_type": "markdown",
   "metadata": {},
   "source": [
    "### 1.2查看模型"
   ]
  },
  {
   "cell_type": "markdown",
   "metadata": {},
   "source": [
    "模型的参数值，shape，grad"
   ]
  },
  {
   "cell_type": "code",
   "execution_count": 21,
   "metadata": {},
   "outputs": [
    {
     "name": "stdout",
     "output_type": "stream",
     "text": [
      "Conv2d(1, 6, kernel_size=(3, 3), stride=(1, 1)) \n",
      "\n",
      "torch.Size([6, 1, 3, 3])\n",
      "torch.Size([6])\n"
     ]
    },
    {
     "data": {
      "text/plain": [
       "tensor([ 1.2537,  0.0000,  0.1860,  0.0000, -0.6709,  0.8827])"
      ]
     },
     "execution_count": 21,
     "metadata": {},
     "output_type": "execute_result"
    }
   ],
   "source": [
    "print(model.conv1, '\\n')\n",
    "print(model.conv1.weight.shape) \n",
    "print(model.conv1.bias.shape)\n",
    "model.conv1.bias.grad"
   ]
  },
  {
   "cell_type": "code",
   "execution_count": 23,
   "metadata": {},
   "outputs": [
    {
     "name": "stdout",
     "output_type": "stream",
     "text": [
      "Linear(in_features=1350, out_features=10, bias=True) \n",
      "\n",
      "torch.Size([10, 1350])\n",
      "torch.Size([10])\n"
     ]
    }
   ],
   "source": [
    "print(model.fc1, '\\n')\n",
    "print(model.fc1.weight.shape) \n",
    "print(model.fc1.bias.shape)"
   ]
  },
  {
   "cell_type": "markdown",
   "metadata": {},
   "source": [
    "查看所有parameters"
   ]
  },
  {
   "cell_type": "code",
   "execution_count": 3,
   "metadata": {},
   "outputs": [
    {
     "name": "stdout",
     "output_type": "stream",
     "text": [
      "Parameter containing:\n",
      "tensor([[[[ 0.2295, -0.2769,  0.1879],\n",
      "          [-0.2160,  0.1160, -0.2031],\n",
      "          [ 0.1784,  0.1745, -0.2437]]],\n",
      "\n",
      "\n",
      "        [[[ 0.0662, -0.3169, -0.2802],\n",
      "          [ 0.1660, -0.0944, -0.1504],\n",
      "          [-0.1538, -0.3028,  0.0973]]],\n",
      "\n",
      "\n",
      "        [[[ 0.0037,  0.2246,  0.1134],\n",
      "          [-0.3086, -0.3174,  0.2631],\n",
      "          [ 0.0581,  0.1560,  0.0604]]],\n",
      "\n",
      "\n",
      "        [[[ 0.2531, -0.0741, -0.2685],\n",
      "          [-0.1918, -0.2093,  0.0591],\n",
      "          [-0.0220,  0.1060,  0.0461]]],\n",
      "\n",
      "\n",
      "        [[[ 0.2819,  0.2070, -0.3130],\n",
      "          [ 0.2241,  0.1345, -0.2879],\n",
      "          [ 0.1541,  0.0086,  0.3181]]],\n",
      "\n",
      "\n",
      "        [[[-0.1663, -0.0152,  0.2770],\n",
      "          [-0.2049,  0.2131, -0.2883],\n",
      "          [ 0.0913, -0.0793, -0.0869]]]], requires_grad=True)\n",
      "Parameter containing:\n",
      "tensor([ 0.2182, -0.0834,  0.0735, -0.2827,  0.1928,  0.0721],\n",
      "       requires_grad=True)\n",
      "Parameter containing:\n",
      "tensor([[-0.0009,  0.0145, -0.0236,  ..., -0.0229,  0.0258, -0.0006],\n",
      "        [ 0.0001,  0.0154, -0.0131,  ...,  0.0241,  0.0038, -0.0045],\n",
      "        [ 0.0057, -0.0121, -0.0141,  ...,  0.0154,  0.0060,  0.0153],\n",
      "        ...,\n",
      "        [-0.0071,  0.0082, -0.0205,  ...,  0.0014,  0.0147,  0.0109],\n",
      "        [-0.0272, -0.0226,  0.0250,  ..., -0.0180, -0.0216, -0.0157],\n",
      "        [ 0.0239,  0.0076, -0.0270,  ...,  0.0106, -0.0232,  0.0214]],\n",
      "       requires_grad=True)\n",
      "Parameter containing:\n",
      "tensor([ 0.0241, -0.0138, -0.0075,  0.0110,  0.0211, -0.0216, -0.0067,  0.0107,\n",
      "        -0.0143, -0.0049], requires_grad=True)\n"
     ]
    }
   ],
   "source": [
    "for param in model.parameters():\n",
    "    print(param)"
   ]
  },
  {
   "cell_type": "code",
   "execution_count": 4,
   "metadata": {},
   "outputs": [
    {
     "name": "stdout",
     "output_type": "stream",
     "text": [
      "conv1.weight : torch.Size([6, 1, 3, 3])\n",
      "conv1.bias : torch.Size([6])\n",
      "fc1.weight : torch.Size([10, 1350])\n",
      "fc1.bias : torch.Size([10])\n"
     ]
    }
   ],
   "source": [
    "for name,parameters in model.named_parameters():\n",
    "    print(name,':',parameters.size())"
   ]
  },
  {
   "cell_type": "markdown",
   "metadata": {},
   "source": [
    "### 1.3BP"
   ]
  },
  {
   "cell_type": "code",
   "execution_count": 5,
   "metadata": {},
   "outputs": [
    {
     "data": {
      "text/plain": [
       "torch.Size([1, 10])"
      ]
     },
     "execution_count": 5,
     "metadata": {},
     "output_type": "execute_result"
    }
   ],
   "source": [
    "x = torch.rand(1,1,32,32)\n",
    "y_pred = model(x)\n",
    "y_pred.size()"
   ]
  },
  {
   "cell_type": "code",
   "execution_count": 6,
   "metadata": {
    "collapsed": true
   },
   "outputs": [],
   "source": [
    "model.zero_grad()\n",
    "\n",
    "# y_pred.backward(torch.ones(y_pred.shape)) #传1进去，才能对向量backward\n",
    "\n",
    "# 但是其实y_pred本身进行BP没意义，我们要的是loss来BP\n",
    "# 或者 y_pred.mean().backward()"
   ]
  },
  {
   "cell_type": "code",
   "execution_count": 7,
   "metadata": {},
   "outputs": [
    {
     "data": {
      "text/plain": [
       "tensor(28.7616, grad_fn=<MeanBackward0>)"
      ]
     },
     "execution_count": 7,
     "metadata": {},
     "output_type": "execute_result"
    }
   ],
   "source": [
    "y_label = torch.arange(0,10).view(1,10).float()\n",
    "loss_fn = nn.MSELoss()\n",
    "loss = loss_fn(y_label, y_pred)\n",
    "loss"
   ]
  },
  {
   "cell_type": "code",
   "execution_count": 8,
   "metadata": {
    "collapsed": true
   },
   "outputs": [],
   "source": [
    "optim = torch.optim.SGD(model.parameters(), lr=0.001)\n",
    "optim.zero_grad()\n",
    "loss.backward()\n",
    "optim.step()"
   ]
  },
  {
   "cell_type": "code",
   "execution_count": null,
   "metadata": {
    "collapsed": true
   },
   "outputs": [],
   "source": []
  },
  {
   "cell_type": "code",
   "execution_count": null,
   "metadata": {
    "collapsed": true
   },
   "outputs": [],
   "source": []
  },
  {
   "cell_type": "markdown",
   "metadata": {},
   "source": [
    "## 2.实战：图像分类器\n",
    "五个步骤：\n",
    "1. Load and normalizing the CIFAR10 training and test datasets using torchvision\n",
    "- Define a Convolutional Neural Network\n",
    "- Define a loss function\n",
    "- Train the network on the training data\n",
    "- Test the network on the test data"
   ]
  },
  {
   "cell_type": "code",
   "execution_count": 9,
   "metadata": {
    "collapsed": true
   },
   "outputs": [],
   "source": [
    "import torch\n",
    "import torchvision #包含图像数据的加载、变形扥操作\n",
    "import torchvision.transforms as transforms\n",
    "from torch.utils.data import DataLoader"
   ]
  },
  {
   "cell_type": "markdown",
   "metadata": {},
   "source": [
    "### 1.加载数据"
   ]
  },
  {
   "cell_type": "code",
   "execution_count": 37,
   "metadata": {},
   "outputs": [
    {
     "name": "stdout",
     "output_type": "stream",
     "text": [
      "Files already downloaded and verified\n",
      "Files already downloaded and verified\n"
     ]
    }
   ],
   "source": [
    "transform = transforms.Compose(\n",
    "    [transforms.ToTensor(),\n",
    "     transforms.Normalize((0.5, 0.5, 0.5), (0.5, 0.5, 0.5))])\n",
    "#什么意思？\n",
    "\n",
    "trainset = torchvision.datasets.CIFAR10(root='./dataset',train=True,\n",
    "                                       download=True, transform=transform)\n",
    "testset = torchvision.datasets.CIFAR10(root='./dataset', train=False,\n",
    "                                       download=True, transform=transform)\n",
    "\n",
    "trainloader = DataLoader(trainset, batch_size=5,\n",
    "                        shuffle=True, num_workers=0)\n",
    "testloader = DataLoader(testset, batch_size=5,\n",
    "                        shuffle=True, num_workers=0)\n",
    "\n",
    "classes = ['plane', 'car', 'bird', 'cat','deer',\n",
    "           'dog', 'frog', 'horse', 'ship', 'truck']"
   ]
  },
  {
   "cell_type": "markdown",
   "metadata": {},
   "source": [
    "#### 可视化"
   ]
  },
  {
   "cell_type": "code",
   "execution_count": 42,
   "metadata": {},
   "outputs": [
    {
     "name": "stdout",
     "output_type": "stream",
     "text": [
      "torch.Size([5, 3, 32, 32]) torch.Size([5])\n",
      "(3, 36, 172)\n",
      "(36, 172, 3)\n"
     ]
    },
    {
     "data": {
      "image/png": "[encoded data removed]",
      "text/plain": [
       "<Figure size 432x288 with 1 Axes>"
      ]
     },
     "metadata": {},
     "output_type": "display_data"
    },
    {
     "name": "stdout",
     "output_type": "stream",
     "text": [
      "dog dog truck car frog\n"
     ]
    }
   ],
   "source": [
    "import matplotlib.pyplot as plt\n",
    "import numpy as np\n",
    "def imshow(img):\n",
    "    img = img/2+0.5 \n",
    "    # 因为Compose做了Normalize，这里需要unnormalize 去正态分布，不然会有负值\n",
    "    \n",
    "    npimg = img.numpy()\n",
    "    print(npimg.shape, np.transpose(npimg,(1,2,0)).shape, sep='\\n')\n",
    "    plt.imshow(np.transpose(npimg,(1,2,0)))\n",
    "    plt.show()\n",
    "\n",
    "#随机获取一个batch的图片数据\n",
    "dataiter = iter(trainloader)\n",
    "images, labels = dataiter.next()\n",
    "print(images.shape, labels.shape)\n",
    "\n",
    "#show\n",
    "imshow(torchvision.utils.make_grid(images)) #变成网格，会自动加上margin，所以宽变成了32+2*2，长变成32*5+6*2\n",
    "print(' '.join(classes[labels[i]] for i in range(5)))\n"
   ]
  },
  {
   "cell_type": "markdown",
   "metadata": {},
   "source": [
    "### 2.构建CNN网络"
   ]
  },
  {
   "cell_type": "code",
   "execution_count": 39,
   "metadata": {
    "collapsed": true
   },
   "outputs": [],
   "source": [
    "import torch.nn as nn\n",
    "import torch.nn.functional as F"
   ]
  },
  {
   "cell_type": "code",
   "execution_count": 58,
   "metadata": {
    "scrolled": true
   },
   "outputs": [
    {
     "data": {
      "text/plain": [
       "CNN(\n",
       "  (conv1): Conv2d(3, 6, kernel_size=(5, 5), stride=(1, 1))\n",
       "  (pool): MaxPool2d(kernel_size=2, stride=2, padding=0, dilation=1, ceil_mode=False)\n",
       "  (conv2): Conv2d(6, 16, kernel_size=(5, 5), stride=(1, 1))\n",
       "  (fc1): Linear(in_features=400, out_features=120, bias=True)\n",
       "  (fc2): Linear(in_features=120, out_features=84, bias=True)\n",
       "  (fc3): Linear(in_features=84, out_features=10, bias=True)\n",
       ")"
      ]
     },
     "execution_count": 58,
     "metadata": {},
     "output_type": "execute_result"
    }
   ],
   "source": [
    "class CNN(nn.Module):\n",
    "    def __init__(self):\n",
    "        super(CNN, self).__init__()\n",
    "        self.conv1 = nn.Conv2d(in_channels=3, out_channels=6, kernel_size=5,\n",
    "                              stride=1, padding=0,)\n",
    "        self.pool = nn.MaxPool2d(kernel_size=2, stride=2, \n",
    "                                 padding=0)\n",
    "        self.conv2 = nn.Conv2d(6, 16, 5)\n",
    "        self.fc1 = nn.Linear(in_features=16*5*5, out_features=120)\n",
    "        self.fc2 = nn.Linear(120, 84)\n",
    "        self.fc3 = nn.Linear(84, 10)\n",
    "    \n",
    "    def forward(self, x):\n",
    "        # x:[b,c,h,w] 即[5,3,32,32]\n",
    "        # print(x.shape)\n",
    "        x = self.pool(F.relu(self.conv1(x))) #[4,6,28,28] 池化-->[4,6,14,14]\n",
    "        x = self.pool(F.relu(self.conv2(x))) #[4,16,10,10] -->[4,16,5,5]\n",
    "        x = x.view(-1, 16*5*5) #[4,400]\n",
    "        x = F.relu(self.fc1(x))\n",
    "        x = F.relu(self.fc2(x))\n",
    "        x = self.fc3(x)\n",
    "        return x\n",
    "net = CNN()\n",
    "net"
   ]
  },
  {
   "cell_type": "markdown",
   "metadata": {},
   "source": [
    "### 3.优化器"
   ]
  },
  {
   "cell_type": "code",
   "execution_count": 14,
   "metadata": {
    "collapsed": true
   },
   "outputs": [],
   "source": [
    "import torch.optim as optim\n",
    "\n",
    "loss_fn = nn.CrossEntropyLoss()\n",
    "opt = optim.SGD(net.parameters(), lr=0.001, momentum=0.9)"
   ]
  },
  {
   "cell_type": "markdown",
   "metadata": {},
   "source": [
    "### 4.训练网络"
   ]
  },
  {
   "cell_type": "code",
   "execution_count": 59,
   "metadata": {},
   "outputs": [
    {
     "name": "stdout",
     "output_type": "stream",
     "text": [
      "epoch: 1 iter: 0 loss: 2.281451940536499\n",
      "epoch: 1 iter: 1000 loss: 2.265282392501831\n",
      "epoch: 1 iter: 2000 loss: 2.2763607501983643\n",
      "epoch: 1 iter: 3000 loss: 2.3124327659606934\n",
      "epoch: 1 iter: 4000 loss: 2.2853074073791504\n",
      "epoch: 1 iter: 5000 loss: 2.326103687286377\n",
      "epoch: 1 iter: 6000 loss: 2.297868251800537\n",
      "epoch: 1 iter: 7000 loss: 2.308518886566162\n",
      "epoch: 1 iter: 8000 loss: 2.315901517868042\n",
      "epoch: 1 iter: 9000 loss: 2.2635443210601807\n"
     ]
    }
   ],
   "source": [
    "for epoch in range(1):\n",
    "    \n",
    "    for i, data in enumerate(trainloader):\n",
    "        inputs, labels = data\n",
    "        \n",
    "        opt.zero_grad()\n",
    "        outputs = net(inputs)\n",
    "        loss = loss_fn(outputs, labels)\n",
    "        loss.backward()\n",
    "        opt.step()\n",
    "        \n",
    "        if i%1000 == 0:\n",
    "            print('epoch:',epoch+1, 'iter:',i, 'loss:',loss.item())"
   ]
  },
  {
   "cell_type": "markdown",
   "metadata": {},
   "source": [
    "#### 保存模型"
   ]
  },
  {
   "cell_type": "code",
   "execution_count": 64,
   "metadata": {},
   "outputs": [],
   "source": [
    "model_path = './models/CNN.pth'\n",
    "torch.save(net.state_dict(), model_path)"
   ]
  },
  {
   "cell_type": "code",
   "execution_count": 57,
   "metadata": {},
   "outputs": [
    {
     "name": "stdout",
     "output_type": "stream",
     "text": [
      "epoch: 1 iter: 0 loss: 2.2837564945220947\n",
      "epoch: 1 iter: 1000 loss: 2.3364531993865967\n",
      "epoch: 1 iter: 2000 loss: 2.3116683959960938\n",
      "epoch: 1 iter: 3000 loss: 2.296515703201294\n",
      "epoch: 1 iter: 4000 loss: 2.2772839069366455\n",
      "epoch: 1 iter: 5000 loss: 2.346975326538086\n",
      "epoch: 1 iter: 6000 loss: 2.2442574501037598\n",
      "epoch: 1 iter: 7000 loss: 2.289708375930786\n",
      "epoch: 1 iter: 8000 loss: 2.302560329437256\n",
      "epoch: 1 iter: 9000 loss: 2.279092311859131\n"
     ]
    }
   ],
   "source": [
    "for epoch in range(1):\n",
    "    \n",
    "    for i, data in enumerate(trainloader):\n",
    "        inputs, labels = data\n",
    "        \n",
    "        opt.zero_grad()\n",
    "        outputs = net(inputs)\n",
    "        loss = loss_fn(outputs, labels)\n",
    "        loss.backward()\n",
    "\n",
    "        opt.step()\n",
    "        \n",
    "        if i%1000 == 0:\n",
    "            print('epoch:',epoch+1, 'iter:',i, 'loss:',loss.item())"
   ]
  },
  {
   "cell_type": "markdown",
   "metadata": {},
   "source": [
    "### 5.测试模型"
   ]
  },
  {
   "cell_type": "code",
   "execution_count": 65,
   "metadata": {
    "scrolled": true
   },
   "outputs": [
    {
     "data": {
      "text/plain": [
       "IncompatibleKeys(missing_keys=[], unexpected_keys=[])"
      ]
     },
     "execution_count": 65,
     "metadata": {},
     "output_type": "execute_result"
    }
   ],
   "source": [
    "net.load_state_dict(torch.load(model_path))"
   ]
  },
  {
   "cell_type": "code",
   "execution_count": 68,
   "metadata": {},
   "outputs": [
    {
     "data": {
      "text/plain": [
       "torch.Size([5, 10])"
      ]
     },
     "execution_count": 68,
     "metadata": {},
     "output_type": "execute_result"
    }
   ],
   "source": [
    "outputs = net(images)\n",
    "outputs.shape"
   ]
  },
  {
   "cell_type": "code",
   "execution_count": 33,
   "metadata": {},
   "outputs": [
    {
     "name": "stdout",
     "output_type": "stream",
     "text": [
      "0.66302\n"
     ]
    }
   ],
   "source": [
    "correct = 0\n",
    "total = 0\n",
    "with torch.no_grad():\n",
    "    for data in trainloader:\n",
    "        images, labels = data\n",
    "        outputs = net(images)\n",
    "        _, predicted = torch.max(outputs.data, 1)#返回value, index\n",
    "        total += labels.size(0)\n",
    "        correct += (predicted == labels).sum().item()\n",
    "\n",
    "print(correct/total)"
   ]
  },
  {
   "cell_type": "code",
   "execution_count": 31,
   "metadata": {},
   "outputs": [
    {
     "name": "stdout",
     "output_type": "stream",
     "text": [
      "Accuracy of plane: 0.8072\n",
      "Accuracy of car: 0.7376\n",
      "Accuracy of bird: 0.5044\n",
      "Accuracy of cat: 0.4462\n",
      "Accuracy of deer: 0.5196\n",
      "Accuracy of dog: 0.6052\n",
      "Accuracy of frog: 0.8576\n",
      "Accuracy of horse: 0.7208\n",
      "Accuracy of ship: 0.712\n",
      "Accuracy of truck: 0.7196\n"
     ]
    }
   ],
   "source": [
    "class_correct = list(0. for i in range(10))\n",
    "class_total = list(0. for i in range(10))\n",
    "with torch.no_grad():\n",
    "    for data in trainloader:\n",
    "        images, labels = data\n",
    "        outputs = net(images)\n",
    "        _, predicted = torch.max(outputs, 1)\n",
    "        c = (predicted == labels).squeeze()\n",
    "        for i in range(4):\n",
    "            label = labels[i]\n",
    "            class_correct[label] += c[i].item()\n",
    "            class_total[label] += 1\n",
    "\n",
    "for i in range(10):\n",
    "    print('Accuracy of %s:'%classes[i], class_correct[i] / class_total[i])"
   ]
  },
  {
   "cell_type": "code",
   "execution_count": 30,
   "metadata": {},
   "outputs": [
    {
     "name": "stdout",
     "output_type": "stream",
     "text": [
      "Accuracy of plane: 0.796\n",
      "Accuracy of car: 0.676\n",
      "Accuracy of bird: 0.414\n",
      "Accuracy of cat: 0.409\n",
      "Accuracy of deer: 0.417\n",
      "Accuracy of dog: 0.563\n",
      "Accuracy of frog: 0.835\n",
      "Accuracy of horse: 0.661\n",
      "Accuracy of ship: 0.651\n",
      "Accuracy of truck: 0.655\n"
     ]
    }
   ],
   "source": [
    "class_correct = list(0. for i in range(10))\n",
    "class_total = list(0. for i in range(10))\n",
    "with torch.no_grad():\n",
    "    for data in testloader:\n",
    "        images, labels = data\n",
    "        outputs = net(images)\n",
    "        _, predicted = torch.max(outputs, 1)\n",
    "        c = (predicted == labels).squeeze()\n",
    "        for i in range(4):\n",
    "            label = labels[i]\n",
    "            class_correct[label] += c[i].item()\n",
    "            class_total[label] += 1\n",
    "\n",
    "for i in range(10):\n",
    "    print('Accuracy of %s:'%classes[i], class_correct[i] / class_total[i])"
   ]
  }
 ],
 "metadata": {
  "kernelspec": {
   "display_name": "Python [default]",
   "language": "python",
   "name": "python3"
  },
  "language_info": {
   "codemirror_mode": {
    "name": "ipython",
    "version": 3
   },
   "file_extension": ".py",
   "mimetype": "text/x-python",
   "name": "python",
   "nbconvert_exporter": "python",
   "pygments_lexer": "ipython3",
   "version": "3.6.3"
  }
 },
 "nbformat": 4,
 "nbformat_minor": 2
}
